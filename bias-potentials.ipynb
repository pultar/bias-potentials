{
 "cells": [
  {
   "cell_type": "code",
   "execution_count": null,
   "id": "faf2a4b3",
   "metadata": {},
   "outputs": [],
   "source": [
    "import numpy as np\n",
    "import matplotlib.pyplot as plt"
   ]
  },
  {
   "cell_type": "markdown",
   "id": "23c4da55",
   "metadata": {},
   "source": [
    "Bias function as described by Lennard: https://pubs.acs.org/doi/10.1021/acs.jctc.0c01112"
   ]
  },
  {
   "cell_type": "code",
   "execution_count": null,
   "id": "b3272305",
   "metadata": {},
   "outputs": [],
   "source": [
    "def dfunct(r_ij, r_kl, r_0, d, k):\n",
    "    return 0.5 * k * (r_ij + d * r_kl - r_0) ** 2"
   ]
  },
  {
   "cell_type": "markdown",
   "id": "816daae5",
   "metadata": {},
   "source": [
    "Evaluate `DFUNCT` at different `R_0`"
   ]
  },
  {
   "cell_type": "code",
   "execution_count": null,
   "id": "8f5cbd8c",
   "metadata": {},
   "outputs": [],
   "source": [
    "def calculate_potential(d, k):\n",
    "    r_0 = np.linspace(-2, 4, 4)\n",
    "    r_ij_range = np.linspace(-5, 5, 101)\n",
    "    r_kl_range = np.linspace(-5, 5, 101)\n",
    "    r_ij, r_kl = np.meshgrid(r_ij_range, r_kl_range)\n",
    "    V = np.zeros((4, 101, 101))\n",
    "    V[0] = dfunct(r_ij, r_kl, r_0[0], d, k)\n",
    "    V[1] = dfunct(r_ij, r_kl, r_0[1], d, k)\n",
    "    V[2] = dfunct(r_ij, r_kl, r_0[2], d, k)\n",
    "    V[3] = dfunct(r_ij, r_kl, r_0[3], d, k)\n",
    "    return V, r_ij, r_kl"
   ]
  },
  {
   "cell_type": "markdown",
   "id": "ce5ebb31",
   "metadata": {},
   "source": [
    "Plot surface maps at different bias distances `R_0`:"
   ]
  },
  {
   "cell_type": "code",
   "execution_count": null,
   "id": "ccd65e03",
   "metadata": {},
   "outputs": [],
   "source": [
    "def plot_pes(V, r_ij, r_kl):\n",
    "    cs = []\n",
    "    fig, axs = plt.subplots(2, 2, figsize=(14, 14))\n",
    "    cs.append(axs[0, 0].contour(r_ij, r_kl, V[0]))\n",
    "    cs.append(axs[0, 1].contour(r_ij, r_kl, V[1]))\n",
    "    cs.append(axs[1, 0].contour(r_ij, r_kl, V[2]))\n",
    "    cs.append(axs[1, 1].contour(r_ij, r_kl, V[3]))\n",
    "  \n",
    "    for ax, cs_plot in zip(axs.flat, cs):\n",
    "        ax.set(xlabel='r_ij', ylabel='r_kl')\n",
    "        ax.clabel(cs_plot, inline=True, fontsize=10)\n",
    "\n",
    "    # Hide x labels and tick labels for top plots and y ticks for right plots.\n",
    "    for ax in axs.flat:\n",
    "        ax.label_outer()\n",
    "    \n",
    "    plt.show()"
   ]
  },
  {
   "cell_type": "markdown",
   "id": "fac41ed1",
   "metadata": {},
   "source": [
    "### Calculate PES for `d = -1` "
   ]
  },
  {
   "cell_type": "code",
   "execution_count": null,
   "id": "816e6536",
   "metadata": {},
   "outputs": [],
   "source": [
    "V, r_ij, r_kl = calculate_potential(-1, 20000)\n",
    "plot_pes(V, r_ij, r_kl)"
   ]
  },
  {
   "cell_type": "markdown",
   "id": "f9fe7399",
   "metadata": {},
   "source": [
    "### Calculate PES for `d = +1` "
   ]
  },
  {
   "cell_type": "code",
   "execution_count": null,
   "id": "b623e283",
   "metadata": {},
   "outputs": [],
   "source": [
    "V, r_ij, r_kl = calculate_potential(1, 20000)\n",
    "plot_pes(V, r_ij, r_kl)"
   ]
  },
  {
   "cell_type": "markdown",
   "id": "50e60522-6964-4923-bfac-5766f3d68cd9",
   "metadata": {},
   "source": [
    "## Definition of the Potential"
   ]
  },
  {
   "cell_type": "code",
   "execution_count": null,
   "id": "b40a460a",
   "metadata": {},
   "outputs": [],
   "source": [
    "class Potential:\n",
    "    \n",
    "    def __init__(self, i, j, k, l, r_0, d, force, verbose=True):\n",
    "        self.i = i\n",
    "        self.j = j\n",
    "        self.k = k\n",
    "        self.l = l\n",
    "        self.r_0 = r_0\n",
    "        self.d = d\n",
    "        self.force = force\n",
    "        self.verbose = verbose\n",
    "    \n",
    "    def calculate_potential(self):\n",
    "        r_ij_vec = self.j - self.i\n",
    "        r_kl_vec = self.k - self.l\n",
    "        r_ij = np.linalg.norm(r_ij_vec)\n",
    "        r_kl = np.linalg.norm(r_kl_vec)\n",
    "        return 0.5 * self.force * (r_ij + self.d * r_kl) ** 2\n",
    "    \n",
    "    def calculate_forces(self):\n",
    "        return self.calculate_force_i_(), self.calculate_force_j_(), self.calculate_force_k_(), self.calculate_force_l_()\n",
    "    \n",
    "    def calculate_force_i_(self):\n",
    "        r_ij_vec = self.j - self.i\n",
    "        r_kl_vec = self.l - self.k\n",
    "        r_ij = np.linalg.norm(r_ij_vec)\n",
    "        r_kl = np.linalg.norm(r_kl_vec)\n",
    "        prefactor = self.force * (r_ij_vec / r_ij)\n",
    "        if (self.verbose):\n",
    "            print(f\"prefactor_i: {prefactor}\")\n",
    "            print(f\"r_ij_vec: {r_ij_vec}\")\n",
    "            print(f\"r_kl_vec: {r_kl_vec}\")\n",
    "            print(f\"r_ij: {r_ij}\")\n",
    "            print(f\"r_kl: {r_kl}\")\n",
    "        force_i = prefactor * (r_ij + self.d * r_kl - self.r_0)\n",
    "        return force_i\n",
    "    \n",
    "    def calculate_force_j_(self):\n",
    "        return -self.calculate_force_i_()\n",
    "    \n",
    "    def calculate_force_k_(self):\n",
    "        r_ij_vec = self.j - self.i\n",
    "        r_kl_vec = self.l - self.k\n",
    "        r_ij = np.linalg.norm(r_ij_vec)\n",
    "        r_kl = np.linalg.norm(r_kl_vec)\n",
    "        prefactor = self.force * self.d * (r_kl_vec / r_kl)\n",
    "        if (self.verbose):\n",
    "            print(f\"prefactor_i: {prefactor}\")\n",
    "            print(f\"r_ij_vec: {r_ij_vec}\")\n",
    "            print(f\"r_kl_vec: {r_kl_vec}\")\n",
    "            print(f\"r_ij: {r_ij}\")\n",
    "            print(f\"r_kl: {r_kl}\")\n",
    "        force_k = prefactor * (r_ij + self.d * r_kl - self.r_0)\n",
    "        return force_k\n",
    "    \n",
    "    def calculate_force_l_(self):\n",
    "        return -self.calculate_force_k_()"
   ]
  },
  {
   "cell_type": "code",
   "execution_count": null,
   "id": "f76aa6b0-d257-4ec3-acdf-85800c56113f",
   "metadata": {},
   "outputs": [],
   "source": [
    "# example from GROMOS trajectory (step 1)\n",
    "a = np.array([0.261336286, -0.003121525, -0.040602981])\n",
    "b = np.array([0.016622976, 0.017632865, -0.0226258])\n",
    "c = b\n",
    "d = np.array([-0.211832041, 0.044598137, -0.065052715])\n",
    "potential1 = Potential(a, b, c, d, 0.0, -1, 20000, verbose=True)\n",
    "print(f\"Forces on atoms: {potential1.calculate_forces()}\")\n",
    "print(f\"V_bias: {potential1.calculate_potential()}\")"
   ]
  },
  {
   "cell_type": "code",
   "execution_count": null,
   "id": "542437cf-3f9e-477f-99ab-df01517075c3",
   "metadata": {},
   "outputs": [],
   "source": [
    "# example from GROMOS trajectory (step 200)\n",
    "a = np.array([0.334580982, 0.0461282392, -0.0373055892])\n",
    "b = np.array([0.0514851911, 0.0311563035, 0.00856868253])\n",
    "c = b\n",
    "d = np.array([-0.246007775, 0.0871452496, -0.0550773208])\n",
    "potential2 = Potential(a, b, c, d, 0.0, -1, 20000, verbose=True)\n",
    "print(f\"Forces on atoms: {potential2.calculate_forces()}\")\n",
    "print(f\"V_bias: {potential2.calculate_potential()}\")"
   ]
  },
  {
   "cell_type": "code",
   "execution_count": null,
   "id": "68f4f5b4-188e-4d77-a3ff-4be3d12f8781",
   "metadata": {},
   "outputs": [],
   "source": [
    "# one-dimensional potential\n",
    "a = np.array([1, 0, 0])\n",
    "b = np.array([2, 0, 0])\n",
    "c = b\n",
    "d = np.array([2.2, 0, 0])\n",
    "potential3 = Potential(a, b, c, d, 0.0, -1, 20000, verbose=False)\n",
    "print(f\"Forces on atoms: {potential3.calculate_forces()}\")\n",
    "print(f\"V_bias: {potential3.calculate_potential()}\")"
   ]
  },
  {
   "cell_type": "code",
   "execution_count": null,
   "id": "5a87e441-cf6c-43fd-a456-2d6f5805a26f",
   "metadata": {},
   "outputs": [],
   "source": [
    "# one-dimensional potential\n",
    "a = np.array([1, 0, 0])\n",
    "b = np.array([2, 0, 0])\n",
    "c = b\n",
    "d = np.array([3.2, 0, 0])\n",
    "potential4 = Potential(a, b, c, d, 0.0, -1, 20000, verbose=False)\n",
    "print(f\"Forces on atoms: {potential4.calculate_forces()}\")\n",
    "print(f\"V_bias: {potential4.calculate_potential()}\")"
   ]
  },
  {
   "cell_type": "code",
   "execution_count": null,
   "id": "65cc0129-bfdc-45cf-9b61-5211a9433de9",
   "metadata": {},
   "outputs": [],
   "source": [
    "# one-dimensional potential\n",
    "a = np.array([-1, 0, 0])\n",
    "b = np.array([2, 0, 0])\n",
    "c = b\n",
    "d = np.array([3.0, 0, 0])\n",
    "potential5 = Potential(a, b, c, d, 0.0, -1, 20000, verbose=False)\n",
    "print(f\"Forces on atoms: {potential5.calculate_forces()}\")\n",
    "print(f\"V_bias: {potential5.calculate_potential()}\")"
   ]
  },
  {
   "cell_type": "code",
   "execution_count": null,
   "id": "f711ef1d-0cb1-48a8-ade7-585f7a25c58f",
   "metadata": {},
   "outputs": [],
   "source": []
  }
 ],
 "metadata": {
  "kernelspec": {
   "display_name": "Python 3 (ipykernel)",
   "language": "python",
   "name": "python3"
  },
  "language_info": {
   "codemirror_mode": {
    "name": "ipython",
    "version": 3
   },
   "file_extension": ".py",
   "mimetype": "text/x-python",
   "name": "python",
   "nbconvert_exporter": "python",
   "pygments_lexer": "ipython3",
   "version": "3.9.13"
  }
 },
 "nbformat": 4,
 "nbformat_minor": 5
}
